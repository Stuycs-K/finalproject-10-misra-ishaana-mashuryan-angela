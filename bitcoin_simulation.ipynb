{
 "cells": [
  {
   "cell_type": "code",
   "execution_count": 1,
   "id": "106aba85-606c-4fb4-9b87-8f597f2b1bbb",
   "metadata": {},
   "outputs": [],
   "source": [
    "import importlib\n",
    "import node"
   ]
  },
  {
   "cell_type": "code",
   "execution_count": 2,
   "id": "9d01731a-f518-4830-bcce-41f6cd97db38",
   "metadata": {},
   "outputs": [
    {
     "data": {
      "text/plain": [
       "<module 'node' from '/home/ishaana/Dev/finalproject-10-misra-ishaana-mashuryan-angela/node.py'>"
      ]
     },
     "execution_count": 2,
     "metadata": {},
     "output_type": "execute_result"
    }
   ],
   "source": [
    "importlib.reload(node)"
   ]
  },
  {
   "cell_type": "code",
   "execution_count": 3,
   "id": "95880936-2f05-47b6-a88c-5ee52982517b",
   "metadata": {},
   "outputs": [
    {
     "name": "stderr",
     "output_type": "stream",
     "text": [
      "mkdir: cannot create directory ‘/home/ishaana/Dev/finalproject-10-misra-ishaana-mashuryan-angela/regtest_data/0’: File exists\n",
      "mkdir: cannot create directory ‘/home/ishaana/Dev/finalproject-10-misra-ishaana-mashuryan-angela/regtest_data/1’: File exists\n"
     ]
    },
    {
     "name": "stdout",
     "output_type": "stream",
     "text": [
      "Number: 0\n",
      "Bitcoin Core starting\n",
      "Number: 1\n",
      "Bitcoin Core starting\n"
     ]
    }
   ],
   "source": [
    "alice = node.Node(\"alice\")\n",
    "bob = node.Node(\"bob\")"
   ]
  },
  {
   "cell_type": "code",
   "execution_count": null,
   "id": "9af3d1f7-970b-4fbe-9f18-9b97f1bfca64",
   "metadata": {},
   "outputs": [],
   "source": []
  }
 ],
 "metadata": {
  "kernelspec": {
   "display_name": "Python 3 (ipykernel)",
   "language": "python",
   "name": "python3"
  },
  "language_info": {
   "codemirror_mode": {
    "name": "ipython",
    "version": 3
   },
   "file_extension": ".py",
   "mimetype": "text/x-python",
   "name": "python",
   "nbconvert_exporter": "python",
   "pygments_lexer": "ipython3",
   "version": "3.10.12"
  }
 },
 "nbformat": 4,
 "nbformat_minor": 5
}
